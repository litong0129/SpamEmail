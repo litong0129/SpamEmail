{
 "cells": [
  {
   "cell_type": "markdown",
   "metadata": {},
   "source": [
    "# Simple Spam Email Filtering"
   ]
  },
  {
   "cell_type": "code",
   "execution_count": 1,
   "metadata": {},
   "outputs": [],
   "source": [
    "import nltk\n",
    "import os\n",
    "import numpy as np\n",
    "from nltk.corpus import stopwords\n",
    "from nltk.tokenize import word_tokenize\n",
    "from nltk.stem import PorterStemmer\n",
    "for (path,dirs,files) in os.walk('enron1/spam'):\n",
    "    file_name = files[1:]\n",
    "for (path,dirs,files) in os.walk('enron1/ham'):\n",
    "    ham_file = files[1:]"
   ]
  },
  {
   "cell_type": "markdown",
   "metadata": {},
   "source": [
    "Created a list of words used in all 1500 spam emails (except stopwords and punctuations). Also created a dictionary that indicates a set of words in each spam email."
   ]
  },
  {
   "cell_type": "code",
   "execution_count": 2,
   "metadata": {},
   "outputs": [],
   "source": [
    "filtered = []\n",
    "file_dict = {}\n",
    "stopwords = set(stopwords.words('english'))\n",
    "for i in range(len(file_name)):\n",
    "    file = open('enron1/spam/'+file_name[i],encoding='utf-8',errors='ignore').read()\n",
    "    tokens = nltk.word_tokenize(file)\n",
    "    single_doc=set([])\n",
    "    for w in tokens:\n",
    "        if w not in stopwords:\n",
    "            if w.isalpha():\n",
    "                single_doc.add(w.lower())\n",
    "                filtered.append(w.lower())\n",
    "    file_dict[file_name[i]] = single_doc\n",
    "#print(len(file_dict))"
   ]
  },
  {
   "cell_type": "markdown",
   "metadata": {},
   "source": [
    "Created a list of words used in all 3672 ham emails (except stopwords and punctuations). Also created a dictionary that indicates a set of words in each ham email."
   ]
  },
  {
   "cell_type": "code",
   "execution_count": 3,
   "metadata": {},
   "outputs": [],
   "source": [
    "ham = []\n",
    "ham_dict={}\n",
    "for i in range(len(ham_file)):\n",
    "    file = open('enron1/ham/'+ham_file[i],encoding='utf-8',errors='ignore').read()\n",
    "    tokens = nltk.word_tokenize(file)\n",
    "    single_doc=set([])\n",
    "    for w in tokens:\n",
    "        if w not in stopwords:\n",
    "            if w.isalpha():\n",
    "                single_doc.add(w.lower())\n",
    "                ham.append(w.lower())\n",
    "    ham_dict[ham_file[i]] = single_doc\n",
    "#print(len(ham_dict))"
   ]
  },
  {
   "cell_type": "markdown",
   "metadata": {},
   "source": [
    "Extracted the most common 1000 words from spam and ham list to create the spam dictionary and ham dictionary. \n",
    "After that, P(x_i|y=spam) and P(x_i|y=ham) are calculated based on the frequency of every word in each dictionary, respectively."
   ]
  },
  {
   "cell_type": "code",
   "execution_count": 4,
   "metadata": {},
   "outputs": [],
   "source": [
    "dict1=[]\n",
    "ham_freq = {}\n",
    "hamfreq = nltk.FreqDist(ham)\n",
    "for i in hamfreq.most_common(1000):\n",
    "    dict1.append(i[0])\n",
    "    ham_freq[i[0]]=0\n",
    "\n",
    "for key in ham_dict:\n",
    "    for i in ham_dict[key]:\n",
    "        if i in dict1:\n",
    "            ham_freq[i]+=1\n",
    "for key in ham_freq:\n",
    "    ham_freq[key] = ham_freq[key]/3672\n",
    "#print(ham_freq)"
   ]
  },
  {
   "cell_type": "code",
   "execution_count": 5,
   "metadata": {},
   "outputs": [],
   "source": [
    "spam_freq = {}\n",
    "dict=[]\n",
    "freq = nltk.FreqDist(filtered)\n",
    "\n",
    "for i in freq.most_common(1000):\n",
    "    dict.append(i[0])\n",
    "    spam_freq[i[0]]=0\n",
    "for key in file_dict:\n",
    "    for i in file_dict[key]:\n",
    "        if i in dict:\n",
    "            spam_freq[i] +=1\n",
    "for key in spam_freq:\n",
    "    spam_freq[key] = spam_freq[key]/1500\n",
    "#print(spam_freq)"
   ]
  },
  {
   "cell_type": "code",
   "execution_count": 6,
   "metadata": {},
   "outputs": [
    {
     "name": "stdout",
     "output_type": "stream",
     "text": [
      "-129.89316673560555\n",
      "-85.89972364233488\n",
      "4.945657364560455e-38\n",
      "7.832320032882479e-20\n"
     ]
    }
   ],
   "source": [
    "p_spam= 0.25\n",
    "p_ham = 0.75\n",
    "\n",
    "def spam_ind(file):\n",
    "    input = []\n",
    "    spam_prob = []\n",
    "    token = nltk.word_tokenize(open(file).read())     \n",
    "    for w in token:\n",
    "        if w not in stopwords:\n",
    "            if w.isalpha():\n",
    "                input.append(w.lower())\n",
    "    #print(input)\n",
    "    for i in spam_freq:\n",
    "        if i in input:\n",
    "            #print(i)\n",
    "            spam_prob.append(spam_freq[i])\n",
    "        else:\n",
    "            #print(i)\n",
    "            spam_prob.append(1-spam_freq[i])\n",
    "    return np.asarray(spam_prob)\n",
    "\n",
    "def ham_ind(file):\n",
    "    input = []\n",
    "    ham_prob = []\n",
    "    token = nltk.word_tokenize(open(file).read())     \n",
    "    for w in token:\n",
    "        if w not in stopwords:\n",
    "            if w.isalpha():\n",
    "                input.append(w.lower())\n",
    "    for i in ham_freq:\n",
    "        if i in input:\n",
    "            ham_prob.append(ham_freq[i])\n",
    "        else:\n",
    "            ham_prob.append(1-ham_freq[i])\n",
    "    return np.asarray(ham_prob)\n",
    "spam_prob = spam_ind('enron1/spam/0008.2003-12-18.GP.spam.txt')\n",
    "ham_prob = ham_ind('enron1/spam/0008.2003-12-18.GP.spam.txt')\n",
    "#print(ham_prob)\n",
    "#print(spam_prob)\n",
    "print(np.log(p_spam*np.prod(spam_prob)))\n",
    "print(np.log(p_ham*np.prod(ham_prob)))\n",
    "print(p_spam*np.prod(spam_prob)+p_ham*np.prod(ham_prob))\n",
    "final_dec = (p_spam*np.prod(spam_prob))/((p_spam*np.prod(spam_prob))+(p_ham*np.prod(ham_prob)))\n",
    "print(final_dec)"
   ]
  },
  {
   "cell_type": "code",
   "execution_count": null,
   "metadata": {},
   "outputs": [],
   "source": []
  },
  {
   "cell_type": "code",
   "execution_count": null,
   "metadata": {},
   "outputs": [],
   "source": []
  }
 ],
 "metadata": {
  "kernelspec": {
   "display_name": "Python 3",
   "language": "python",
   "name": "python3"
  },
  "language_info": {
   "codemirror_mode": {
    "name": "ipython",
    "version": 3
   },
   "file_extension": ".py",
   "mimetype": "text/x-python",
   "name": "python",
   "nbconvert_exporter": "python",
   "pygments_lexer": "ipython3",
   "version": "3.6.5"
  }
 },
 "nbformat": 4,
 "nbformat_minor": 2
}
